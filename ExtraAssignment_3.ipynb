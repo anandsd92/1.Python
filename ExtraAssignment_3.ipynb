{
 "cells": [
  {
   "cell_type": "code",
   "execution_count": 11,
   "id": "945473db-3f61-46c1-a0df-69355926f9c0",
   "metadata": {},
   "outputs": [
    {
     "name": "stdout",
     "output_type": "stream",
     "text": [
      "i value:  10\n",
      "Correct\n"
     ]
    }
   ],
   "source": [
    "#Extra Assignment session 3\n",
    "for i in range(0,11):\n",
    "    if(i==10):\n",
    "        print(\"i value: \",i)\n",
    "        print(\"Correct\")\n",
    "        break"
   ]
  },
  {
   "cell_type": "code",
   "execution_count": 25,
   "id": "ec34896d-e507-46db-9704-18291c5a602d",
   "metadata": {},
   "outputs": [
    {
     "name": "stdin",
     "output_type": "stream",
     "text": [
      "Enter the password to verify hopes@123\n"
     ]
    },
    {
     "name": "stdout",
     "output_type": "stream",
     "text": [
      "You entered incorrect password, check again\n"
     ]
    }
   ],
   "source": [
    "#Verify the password value\n",
    "passwordValue=input(\"Enter the password to verify\")\n",
    "if(passwordValue.lower()==\"HOPE@123\".lower()):\n",
    "    print(\"Your password is correct\")\n",
    "\n",
    "else:\n",
    "    print(\"You entered incorrect password, check again\")\n",
    "    "
   ]
  },
  {
   "cell_type": "code",
   "execution_count": 31,
   "id": "3031a536-2a2f-4398-bc2e-ff6e85da3f4c",
   "metadata": {},
   "outputs": [
    {
     "name": "stdin",
     "output_type": "stream",
     "text": [
      "Enter your age in numeric : 6\n"
     ]
    },
    {
     "name": "stdout",
     "output_type": "stream",
     "text": [
      "Entered age person is children\n"
     ]
    }
   ],
   "source": [
    "#categorize based on the age\n",
    "age=int(input(\"Enter your age in numeric :\"))\n",
    "if(age <=18):\n",
    "        print(\"Entered age person is children\")\n",
    "elif(age >18 and age <= 35):\n",
    "        print(\"Entered age person is adult\")\n",
    "elif(age >35 and age <= 50):\n",
    "        print(\"Entered age person is citizen\")\n",
    "elif(age >50 ):\n",
    "        print(\"Entered age person is senior citizen\")\n",
    "else:\n",
    "        print(\"Incorrect age value\")"
   ]
  },
  {
   "cell_type": "code",
   "execution_count": 41,
   "id": "f1709a6b-082f-4aa7-9641-99541e3edde5",
   "metadata": {},
   "outputs": [
    {
     "name": "stdin",
     "output_type": "stream",
     "text": [
      "Enter your age in numeric : 32\n"
     ]
    },
    {
     "name": "stdout",
     "output_type": "stream",
     "text": [
      "Given number is positive\n"
     ]
    }
   ],
   "source": [
    "#Given number is positve or negative\n",
    "num=int(input(\"Enter your age in numeric :\"))\n",
    "if(num>0):\n",
    "    print(\"Given number is positive\")\n",
    "else:\n",
    "    print(\"Given number is negative\")"
   ]
  },
  {
   "cell_type": "code",
   "execution_count": 45,
   "id": "15c90fc1-531f-440b-a39a-e7673dec2176",
   "metadata": {},
   "outputs": [
    {
     "name": "stdout",
     "output_type": "stream",
     "text": [
      "Given number is not divisible by 5\n"
     ]
    }
   ],
   "source": [
    "# Check whether the given number is divisible by 5\n",
    "valueToDivide=5\n",
    "if(num % 5 == 0):\n",
    "    print(\"Given number is divisible by {0}\".format(valueToDivide))\n",
    "else:\n",
    "    print(\"Given number is not divisible by {0}\".format(valueToDivide))"
   ]
  },
  {
   "cell_type": "code",
   "execution_count": null,
   "id": "1cc69333-1eef-47de-8870-1365c47f7ddf",
   "metadata": {},
   "outputs": [],
   "source": []
  }
 ],
 "metadata": {
  "kernelspec": {
   "display_name": "Python [conda env:base] *",
   "language": "python",
   "name": "conda-base-py"
  },
  "language_info": {
   "codemirror_mode": {
    "name": "ipython",
    "version": 3
   },
   "file_extension": ".py",
   "mimetype": "text/x-python",
   "name": "python",
   "nbconvert_exporter": "python",
   "pygments_lexer": "ipython3",
   "version": "3.12.7"
  }
 },
 "nbformat": 4,
 "nbformat_minor": 5
}
