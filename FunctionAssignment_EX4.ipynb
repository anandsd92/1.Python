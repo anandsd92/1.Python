{
 "cells": [
  {
   "cell_type": "code",
   "execution_count": 9,
   "id": "4a5451d2-bc20-4c6f-908e-e2d24155cd82",
   "metadata": {},
   "outputs": [
    {
     "name": "stdout",
     "output_type": "stream",
     "text": [
      "['Machine Learning', 'Natural Language Processing', 'Neural Networks', 'Robotics', 'Speech Processing', 'Vision']\n"
     ]
    }
   ],
   "source": [
    "lstLanguages=['Machine Learning','Neural Networks','Vision','Robotics','Speech Processing','Natural Language Processing']\n",
    "lstLanguages.sort()\n",
    "print(lstLanguages)"
   ]
  },
  {
   "cell_type": "code",
   "execution_count": 19,
   "id": "41873ebb-4150-4a99-9fce-7d1cbee48b8a",
   "metadata": {},
   "outputs": [],
   "source": [
    "def ModulesIn_AI(lstLanguages):\n",
    "    print(\"Here are the list of modules in AI technology\")\n",
    "    for val in lstLanguages:\n",
    "        print(\"Technology :\",val)"
   ]
  },
  {
   "cell_type": "code",
   "execution_count": 13,
   "id": "a632e7a9-c54e-40fb-b426-62d86eba7378",
   "metadata": {},
   "outputs": [
    {
     "name": "stdout",
     "output_type": "stream",
     "text": [
      "Here are the list of modules in AI technology\n",
      "Technology : Machine Learning\n",
      "Technology : Natural Language Processing\n",
      "Technology : Neural Networks\n",
      "Technology : Robotics\n",
      "Technology : Speech Processing\n",
      "Technology : Vision\n"
     ]
    }
   ],
   "source": [
    "ModulesIn_AI(lstLanguages)"
   ]
  },
  {
   "cell_type": "code",
   "execution_count": 21,
   "id": "599a4b96-c77a-4cd8-9204-3d8872fb47ea",
   "metadata": {},
   "outputs": [],
   "source": [
    "def CheckOddOrEven(number):\n",
    "    if(number % 2==0):\n",
    "        message=\"Given value is even number\"\n",
    "    else:\n",
    "        message=\"Given value is odd number\"\n",
    "    return message"
   ]
  },
  {
   "cell_type": "code",
   "execution_count": 23,
   "id": "cc00acaf-7071-4ca9-a1a2-b04e71b8f687",
   "metadata": {},
   "outputs": [
    {
     "name": "stdout",
     "output_type": "stream",
     "text": [
      "Given value is even number\n"
     ]
    }
   ],
   "source": [
    "number=CheckOddOrEven(52452)\n",
    "print(number)"
   ]
  },
  {
   "cell_type": "code",
   "execution_count": 41,
   "id": "92de9cdf-4e94-406d-a2bf-cd8b1acd3b3c",
   "metadata": {},
   "outputs": [],
   "source": [
    "def ElegiblityForMarriage(age,gender):\n",
    "    #print(gender.lower())\n",
    "    if(gender.lower()==\"male\"):\n",
    "        if(age>21):\n",
    "            message=\"He is eligible for marriage\"\n",
    "        else:\n",
    "            message=\"He is not eligible for marriage\"\n",
    "    elif(gender.lower()==\"female\"):\n",
    "        if(age>18):\n",
    "            message=\"She is eligible for marriage\"\n",
    "        else:\n",
    "            message=\"She is not eligible for marriage\"\n",
    "    return message"
   ]
  },
  {
   "cell_type": "code",
   "execution_count": 43,
   "id": "26935a84-f2b2-4689-8afa-143281952253",
   "metadata": {},
   "outputs": [
    {
     "name": "stdout",
     "output_type": "stream",
     "text": [
      "male\n",
      "He is not eligible for marriage\n"
     ]
    }
   ],
   "source": [
    "eligibility=ElegiblityForMarriage(21,'MaLe')\n",
    "print(eligibility)"
   ]
  },
  {
   "cell_type": "code",
   "execution_count": 75,
   "id": "27d21de2-00fa-419b-b4a8-52ca528151b3",
   "metadata": {},
   "outputs": [],
   "source": [
    "#Find Percentage\n",
    "def percentage():\n",
    "    print(\"Enter the subject wise marks in number\")\n",
    "    lstSubject=[\"sub1\",\"sub2\",\"sub3\",\"sub4\",\"sub5\"]\n",
    "    totalCount=len(lstSubject)\n",
    "    marks=[]\n",
    "    print(totalCount)\n",
    "    for m in lstSubject:\n",
    "        #print(m)\n",
    "        m=int(input(\"Enter the {0}\".format(m)))\n",
    "        #print(\"value of\",m)\n",
    "        marks.append(m)\n",
    "    totalMarks=sum(marks)\n",
    "    percentage=totalMarks/totalCount\n",
    "    return \"Total marks obtained: {0} and Percentile obtained in this exam: {1} \".format(totalMarks,percentage)"
   ]
  },
  {
   "cell_type": "code",
   "execution_count": 77,
   "id": "a5f86f35-7a85-4379-bfb6-2a3dd66a8672",
   "metadata": {},
   "outputs": [
    {
     "name": "stdout",
     "output_type": "stream",
     "text": [
      "Enter the subject wise marks in number\n",
      "5\n"
     ]
    },
    {
     "name": "stdin",
     "output_type": "stream",
     "text": [
      "Enter the sub1 75\n",
      "Enter the sub2 85\n",
      "Enter the sub3 95\n",
      "Enter the sub4 45\n",
      "Enter the sub5 65\n"
     ]
    },
    {
     "name": "stdout",
     "output_type": "stream",
     "text": [
      "Total marks obtained: 365 and Percentile obtained in this exam: 73.0 \n"
     ]
    }
   ],
   "source": [
    "resultMark=percentage()\n",
    "print(resultMark)"
   ]
  },
  {
   "cell_type": "code",
   "execution_count": null,
   "id": "955fe0f2-6444-4433-8c88-86223599ea0a",
   "metadata": {},
   "outputs": [],
   "source": []
  }
 ],
 "metadata": {
  "kernelspec": {
   "display_name": "Python [conda env:base] *",
   "language": "python",
   "name": "conda-base-py"
  },
  "language_info": {
   "codemirror_mode": {
    "name": "ipython",
    "version": 3
   },
   "file_extension": ".py",
   "mimetype": "text/x-python",
   "name": "python",
   "nbconvert_exporter": "python",
   "pygments_lexer": "ipython3",
   "version": "3.12.7"
  }
 },
 "nbformat": 4,
 "nbformat_minor": 5
}
