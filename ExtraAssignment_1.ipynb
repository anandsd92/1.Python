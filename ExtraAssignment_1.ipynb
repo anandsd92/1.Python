{
 "cells": [
  {
   "cell_type": "code",
   "execution_count": 1,
   "id": "0baff9dc-223d-4812-b90e-02c8d3780780",
   "metadata": {},
   "outputs": [
    {
     "name": "stdout",
     "output_type": "stream",
     "text": [
      "HOPE AI\n"
     ]
    }
   ],
   "source": [
    "print(\"HOPE AI\")"
   ]
  },
  {
   "cell_type": "code",
   "execution_count": 3,
   "id": "23e1d377-d3e9-424d-8f7e-e4d2fa32211f",
   "metadata": {},
   "outputs": [
    {
     "name": "stdin",
     "output_type": "stream",
     "text": [
      "Enter your institute name? : Hope AI\n"
     ]
    },
    {
     "name": "stdout",
     "output_type": "stream",
     "text": [
      "Hope AI\n"
     ]
    }
   ],
   "source": [
    "instituteName=input(\"Enter your institute name? :\")\n",
    "print(instituteName)"
   ]
  },
  {
   "cell_type": "code",
   "execution_count": 9,
   "id": "4cbb59a9-78b4-4cbe-835b-265a9418c0df",
   "metadata": {},
   "outputs": [
    {
     "name": "stdin",
     "output_type": "stream",
     "text": [
      "Enter your name:  Raj\n",
      "Enter your age: 32\n",
      "Enter your school name: Guru School\n",
      "Enter your drgree: B.E CSE\n"
     ]
    },
    {
     "name": "stdout",
     "output_type": "stream",
     "text": [
      "name is Raj and age is around 32 and School Name is Guru School and degree is B.E CSE\n"
     ]
    }
   ],
   "source": [
    "name=input(\"Enter your name: \")\n",
    "age=int(input(\"Enter your age:\"))\n",
    "school=input(\"Enter your school name:\")\n",
    "degree=input(\"Enter your drgree:\")\n",
    "#String formatting\n",
    "print(\"name is {0} and age is around {1} and School Name is {2} and degree is {3}\".format(name,age,school,degree))"
   ]
  },
  {
   "cell_type": "code",
   "execution_count": 21,
   "id": "a6e5069f-48c5-4430-a6ec-a585ac876498",
   "metadata": {},
   "outputs": [
    {
     "name": "stdout",
     "output_type": "stream",
     "text": [
      "Addition A and B = 107\n",
      "Subraction of A and B = 45\n",
      "Multiplication of A and B = 2356\n",
      "Division of A and B = 2.4516129032258065\n",
      "Floor Division of A and B = 2\n",
      "Module of A and B = 14\n",
      "Pow of A and B = 64\n"
     ]
    }
   ],
   "source": [
    "a= 76\n",
    "b= 31\n",
    "add= a + b\n",
    "print(\"Addition A and B =\", add)\n",
    "sub= a - b\n",
    "print(\"Subraction of A and B =\", sub)\n",
    "mul= a * b\n",
    "print(\"Multiplication of A and B =\", mul)\n",
    "div = float(a/b)\n",
    "print(\"Division of A and B =\", div)\n",
    "#Floor division\n",
    "floorDiv= a // b\n",
    "print(\"Floor Division of A and B =\", floorDiv)\n",
    "modValue= a % b\n",
    "print(\"Module of A and B =\", modValue)\n",
    "a= 4\n",
    "b= 3\n",
    "powValue= pow(a,b)\n",
    "print(\"Pow of A and B =\", powValue)"
   ]
  },
  {
   "cell_type": "code",
   "execution_count": null,
   "id": "b2c6c818-cbe4-440b-9835-b425ec788ce5",
   "metadata": {},
   "outputs": [],
   "source": []
  }
 ],
 "metadata": {
  "kernelspec": {
   "display_name": "Python [conda env:base] *",
   "language": "python",
   "name": "conda-base-py"
  },
  "language_info": {
   "codemirror_mode": {
    "name": "ipython",
    "version": 3
   },
   "file_extension": ".py",
   "mimetype": "text/x-python",
   "name": "python",
   "nbconvert_exporter": "python",
   "pygments_lexer": "ipython3",
   "version": "3.12.7"
  }
 },
 "nbformat": 4,
 "nbformat_minor": 5
}
