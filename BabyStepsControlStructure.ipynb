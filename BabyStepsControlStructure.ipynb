{
 "cells": [
  {
   "cell_type": "code",
   "execution_count": 1,
   "id": "947e0dd4-4395-4801-ba57-52e1df9d2fcf",
   "metadata": {},
   "outputs": [
    {
     "name": "stdout",
     "output_type": "stream",
     "text": [
      "Welcome to Assignment-1\n"
     ]
    }
   ],
   "source": [
    "print(\"Welcome to Assignment-1\")"
   ]
  },
  {
   "cell_type": "code",
   "execution_count": 3,
   "id": "53a581c5-47ab-456a-98c3-87600cc923b0",
   "metadata": {},
   "outputs": [
    {
     "name": "stdout",
     "output_type": "stream",
     "text": [
      "num1= 10\n",
      "num2= 30\n",
      "add= 40\n"
     ]
    }
   ],
   "source": [
    "num1= 10\n",
    "num2= 30\n",
    "add=num1 + num2\n",
    "print(\"num1=\",num1)\n",
    "print(\"num2=\",num2)\n",
    "print(\"add=\",add)"
   ]
  },
  {
   "cell_type": "code",
   "execution_count": 15,
   "id": "ebe680f5-ab56-4dbd-8831-f47d40038b56",
   "metadata": {},
   "outputs": [
    {
     "name": "stdin",
     "output_type": "stream",
     "text": [
      "Enter your height in centi meter : 180\n",
      "Enter your weight in kgs : 97\n"
     ]
    },
    {
     "name": "stdout",
     "output_type": "stream",
     "text": [
      "Height in meter: 1.8\n",
      "Height in squre meter: 3.24\n",
      "BMI index: 29\n",
      "You have tocuhed over weight\n"
     ]
    }
   ],
   "source": [
    "#Question 2 BMI Index calculator\n",
    "height=int(input(\"Enter your height in centi meter :\"))\n",
    "weight=int(input(\"Enter your weight in kgs :\"))\n",
    "heightInMeter=height/100\n",
    "print(\"Height in meter:\",heightInMeter)\n",
    "#Height In Squre Meter\n",
    "heightInSquareMeter=heightInMeter ** 2\n",
    "print(\"Height in squre meter:\",heightInSquareMeter)\n",
    "#BMI Index calculator Weight/Square of 2(height in meter)\n",
    "bmi_Index=int(weight/heightInSquareMeter)\n",
    "print(\"BMI index:\",bmi_Index)\n",
    "#Identify Obesity based on BMI index\n",
    "if(bmi_Index <= 18):\n",
    "    print(\"You are Underweight\")\n",
    "elif(bmi_Index >= 18 and bmi_Index <= 25):\n",
    "    print(\"You are in Normal Height and Weight\")\n",
    "elif(bmi_Index >= 25 and bmi_Index <= 30):\n",
    "    print(\"You have tocuhed over weight\")\n",
    "elif(bmi_Index > 30):\n",
    "    print(\"You are in obesity state\")"
   ]
  },
  {
   "cell_type": "code",
   "execution_count": null,
   "id": "5449ba35-29af-4817-b6c1-971e27409e21",
   "metadata": {},
   "outputs": [],
   "source": []
  }
 ],
 "metadata": {
  "kernelspec": {
   "display_name": "Python [conda env:base] *",
   "language": "python",
   "name": "conda-base-py"
  },
  "language_info": {
   "codemirror_mode": {
    "name": "ipython",
    "version": 3
   },
   "file_extension": ".py",
   "mimetype": "text/x-python",
   "name": "python",
   "nbconvert_exporter": "python",
   "pygments_lexer": "ipython3",
   "version": "3.12.7"
  }
 },
 "nbformat": 4,
 "nbformat_minor": 5
}
