{
 "cells": [
  {
   "cell_type": "code",
   "execution_count": 1,
   "id": "5a62b353-c4a1-47b6-85cb-e9ded180a4eb",
   "metadata": {},
   "outputs": [],
   "source": [
    "#class assignments and functions\n",
    "class SubfieldsInAI():\n",
    "    def Subfields():\n",
    "        aiFields=['Machine Learning','Neural Networks','Vision','Robotics','Speech Processing','Natural Language Processing']\n",
    "        print(\"Sub-fields in AI are:\")\n",
    "        for f in aiFields:\n",
    "            print(f)\n",
    "            "
   ]
  },
  {
   "cell_type": "code",
   "execution_count": 3,
   "id": "6b428c58-d4cb-4cbb-be9e-bbd1c66be5b9",
   "metadata": {},
   "outputs": [
    {
     "name": "stdout",
     "output_type": "stream",
     "text": [
      "Sub-fields in AI are:\n",
      "Machine Learning\n",
      "Neural Networks\n",
      "Vision\n",
      "Robotics\n",
      "Speech Processing\n",
      "Natural Language Processing\n"
     ]
    }
   ],
   "source": [
    "SubfieldsInAI.Subfields()"
   ]
  },
  {
   "cell_type": "code",
   "execution_count": 9,
   "id": "d25446e0-0e23-469c-81c7-0da56871cc50",
   "metadata": {},
   "outputs": [],
   "source": [
    "def CheckOddOrEven():\n",
    "    numbers=[532,248,781,563]\n",
    "    evenNumbers=[val for val in numbers if val % 2==0]\n",
    "    print(f\"Even Numbers list using comprehensive function: {evenNumbers}\")"
   ]
  },
  {
   "cell_type": "code",
   "execution_count": 11,
   "id": "cbc456a3-9f48-4a23-b83f-cc792bd8f2f3",
   "metadata": {},
   "outputs": [
    {
     "name": "stdout",
     "output_type": "stream",
     "text": [
      "Even Numbers list using comprehensive function: [532, 248]\n"
     ]
    }
   ],
   "source": [
    "CheckOddOrEven()"
   ]
  },
  {
   "cell_type": "code",
   "execution_count": 36,
   "id": "0e9f5a06-a19c-4680-8f9e-a3f25ef5349a",
   "metadata": {},
   "outputs": [],
   "source": [
    "def CheckEligibilityMarriage():\n",
    "        try:\n",
    "            gender=input(\"Enter your gender information:\")\n",
    "            age=int(input(\"Enter your age in numeric :\"))\n",
    "            print(f\"Given gender: {gender} and age: is {age} \\n\")\n",
    "        except ValueError:\n",
    "            return \"Invalid age. Please enter a valid age & number.\"\n",
    "        if(gender.lower()==\"male\"):    \n",
    "            if(age >=21):\n",
    "                message = \"Groom is eligible for marriage\"\n",
    "            else:\n",
    "                message = \"Groom is not eligible for marriage\"\n",
    "        elif(gender.lower()==\"female\"):\n",
    "            if(age >=18):\n",
    "                message = \"Bride is eligible for marriage\"\n",
    "            else:\n",
    "                message = \"Bride is not eligible for marriage\"\n",
    "        else:\n",
    "                message = \"Given Gender is incorrect\"\n",
    "        return message"
   ]
  },
  {
   "cell_type": "code",
   "execution_count": 38,
   "id": "d55dbaa8-b1dc-4188-b1d2-33bd7879d5be",
   "metadata": {},
   "outputs": [
    {
     "name": "stdin",
     "output_type": "stream",
     "text": [
      "Enter your gender information: mAlE\n",
      "Enter your age in numeric : 34\n"
     ]
    },
    {
     "name": "stdout",
     "output_type": "stream",
     "text": [
      "Given gender: mAlE and age: is 34 \n",
      "\n"
     ]
    },
    {
     "data": {
      "text/plain": [
       "'Groom is eligible for marriage'"
      ]
     },
     "execution_count": 38,
     "metadata": {},
     "output_type": "execute_result"
    }
   ],
   "source": [
    "CheckEligibilityMarriage()"
   ]
  },
  {
   "cell_type": "code",
   "execution_count": 48,
   "id": "671ed57a-7931-450e-b27d-60044a4d8f08",
   "metadata": {},
   "outputs": [],
   "source": [
    "from functools import reduce\n",
    "def FindPercent():\n",
    "    marks=[85,86,67,55,92]\n",
    "    total=reduce(lambda x,y: x+y, marks)\n",
    "    print(f\"Total scores of student: {total}\")\n",
    "    percent = total/ len(marks)\n",
    "    print(f\"Percentile of student: {percent}\")"
   ]
  },
  {
   "cell_type": "code",
   "execution_count": 50,
   "id": "9f9caa5a-1964-41cf-96d3-13a596ee28b6",
   "metadata": {},
   "outputs": [
    {
     "name": "stdout",
     "output_type": "stream",
     "text": [
      "Total scores of student: 385\n",
      "Percentile of student: 77.0\n"
     ]
    }
   ],
   "source": [
    "FindPercent()"
   ]
  },
  {
   "cell_type": "code",
   "execution_count": 66,
   "id": "4ba125e3-d2c0-4c25-a459-a7040cd97230",
   "metadata": {},
   "outputs": [],
   "source": [
    "def FindArea():\n",
    "    try:\n",
    "        Height1 = int(input(\"Enter Height1 of the triangle:\"))\n",
    "        Height2 = int(input(\"Enter Height2 of the perimeter:\"))\n",
    "        Breadth = int(input(\"Enter Breadth of the triangle:\"))\n",
    "    except ValueError:\n",
    "        return \"Invalid Height & Breadth of the triangle\"\n",
    "    areaOfTriangle = (Height1*Breadth)/2\n",
    "    perimeterOfTriangle = Height1+Height2+Breadth\n",
    "    return f\"Area of triangle: {areaOfTriangle}, Perimeter of triangle: {perimeterOfTriangle}\""
   ]
  },
  {
   "cell_type": "code",
   "execution_count": 68,
   "id": "d22da178-c328-4f25-bd72-8dfb8b0ba663",
   "metadata": {},
   "outputs": [
    {
     "name": "stdin",
     "output_type": "stream",
     "text": [
      "Enter Height1 of the triangle: 12\n",
      "Enter Height2 of the perimeter: 15\n",
      "Enter Breadth of the triangle: 18\n"
     ]
    },
    {
     "name": "stdout",
     "output_type": "stream",
     "text": [
      "Area of triangle: 108.0, Perimeter of triangle: 45\n"
     ]
    }
   ],
   "source": [
    "result=FindArea()\n",
    "print(result)"
   ]
  },
  {
   "cell_type": "code",
   "execution_count": 76,
   "id": "b283f268-5553-4e50-a938-8980c1a94bc2",
   "metadata": {},
   "outputs": [],
   "source": [
    "from PythonClassProgram import CombinedClassFunction"
   ]
  },
  {
   "cell_type": "code",
   "execution_count": 78,
   "id": "62ddee68-df06-491d-9979-7b2432800eda",
   "metadata": {},
   "outputs": [
    {
     "name": "stdin",
     "output_type": "stream",
     "text": [
      "Enter Height1 of the triangle: 20\n",
      "Enter Height2 of the perimeter: 25\n",
      "Enter Breadth of the triangle: 64\n"
     ]
    },
    {
     "name": "stdout",
     "output_type": "stream",
     "text": [
      "Area of triangle: 640.0, Perimeter of triangle: 109\n"
     ]
    }
   ],
   "source": [
    "result_Of_Triangle=CombinedClassFunction.FindArea()\n",
    "print(result_Of_Triangle)"
   ]
  },
  {
   "cell_type": "code",
   "execution_count": 80,
   "id": "119b2b23-4804-4f60-be18-6464fd6b41ce",
   "metadata": {},
   "outputs": [
    {
     "name": "stdout",
     "output_type": "stream",
     "text": [
      "Total scores of student: 385\n",
      "Percentile of student: 77.0\n"
     ]
    }
   ],
   "source": [
    "CombinedClassFunction.FindPercent()"
   ]
  },
  {
   "cell_type": "code",
   "execution_count": 82,
   "id": "ee376594-a9ac-4e1c-9fb6-40a2256e1ec7",
   "metadata": {},
   "outputs": [
    {
     "name": "stdin",
     "output_type": "stream",
     "text": [
      "Enter your gender information: MaLe\n",
      "Enter your age in numeric : 25\n"
     ]
    },
    {
     "name": "stdout",
     "output_type": "stream",
     "text": [
      "Given gender: MaLe and age: is 25 \n",
      "\n"
     ]
    },
    {
     "data": {
      "text/plain": [
       "'Groom is eligible for marriage'"
      ]
     },
     "execution_count": 82,
     "metadata": {},
     "output_type": "execute_result"
    }
   ],
   "source": [
    "CombinedClassFunction.CheckEligibilityMarriage()"
   ]
  },
  {
   "cell_type": "code",
   "execution_count": null,
   "id": "3ac0c557-5575-4b72-9487-803083e9431e",
   "metadata": {},
   "outputs": [],
   "source": []
  }
 ],
 "metadata": {
  "kernelspec": {
   "display_name": "Python [conda env:base] *",
   "language": "python",
   "name": "conda-base-py"
  },
  "language_info": {
   "codemirror_mode": {
    "name": "ipython",
    "version": 3
   },
   "file_extension": ".py",
   "mimetype": "text/x-python",
   "name": "python",
   "nbconvert_exporter": "python",
   "pygments_lexer": "ipython3",
   "version": "3.12.7"
  }
 },
 "nbformat": 4,
 "nbformat_minor": 5
}
